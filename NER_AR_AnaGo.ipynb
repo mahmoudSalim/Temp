{
  "nbformat": 4,
  "nbformat_minor": 0,
  "metadata": {
    "colab": {
      "name": "NER_AR_AnaGo.ipynb",
      "version": "0.3.2",
      "provenance": []
    },
    "kernelspec": {
      "name": "python3",
      "display_name": "Python 3"
    },
    "accelerator": "GPU"
  },
  "cells": [
    {
      "metadata": {
        "id": "QDTtxggqGz-u",
        "colab_type": "code",
        "colab": {
          "base_uri": "https://localhost:8080/",
          "height": 122
        },
        "outputId": "001f260f-1016-4495-a180-d9a91fd43d45"
      },
      "cell_type": "code",
      "source": [
        "# Mountig With google drive\n",
        "from google.colab import drive\n",
        "drive.mount('/content/drive')"
      ],
      "execution_count": 1,
      "outputs": [
        {
          "output_type": "stream",
          "text": [
            "Go to this URL in a browser: https://accounts.google.com/o/oauth2/auth?client_id=947318989803-6bn6qk8qdgf4n4g3pfee6491hc0brc4i.apps.googleusercontent.com&redirect_uri=urn%3Aietf%3Awg%3Aoauth%3A2.0%3Aoob&scope=email%20https%3A%2F%2Fwww.googleapis.com%2Fauth%2Fdocs.test%20https%3A%2F%2Fwww.googleapis.com%2Fauth%2Fdrive%20https%3A%2F%2Fwww.googleapis.com%2Fauth%2Fdrive.photos.readonly%20https%3A%2F%2Fwww.googleapis.com%2Fauth%2Fpeopleapi.readonly&response_type=code\n",
            "\n",
            "Enter your authorization code:\n",
            "··········\n",
            "Mounted at /content/drive\n"
          ],
          "name": "stdout"
        }
      ]
    },
    {
      "metadata": {
        "id": "HiMWdP2VG36i",
        "colab_type": "code",
        "colab": {
          "base_uri": "https://localhost:8080/",
          "height": 34
        },
        "outputId": "07ef0733-e470-4960-b951-4d7b5c141fd9"
      },
      "cell_type": "code",
      "source": [
        "%cd /content/drive/My Drive/Widebot/NER/AnagoTransferLearning"
      ],
      "execution_count": 3,
      "outputs": [
        {
          "output_type": "stream",
          "text": [
            "/content/drive/My Drive/Widebot/NER/AnagoTransferLearning\n"
          ],
          "name": "stdout"
        }
      ]
    },
    {
      "metadata": {
        "id": "W3aJhaBKHBLa",
        "colab_type": "code",
        "colab": {
          "base_uri": "https://localhost:8080/",
          "height": 632
        },
        "outputId": "1d5abcc6-f12b-42c8-956b-a8ac012e57ff"
      },
      "cell_type": "code",
      "source": [
        "!pip install anago"
      ],
      "execution_count": 4,
      "outputs": [
        {
          "output_type": "stream",
          "text": [
            "Collecting anago\n",
            "  Downloading https://files.pythonhosted.org/packages/0e/09/a62ba9564e488376966f771105522c4d7783ec141964c0b955230b1f5f63/anago-1.0.8-py3-none-any.whl\n",
            "Requirement already satisfied: Keras>=2.2.0 in /usr/local/lib/python3.6/dist-packages (from anago) (2.2.4)\n",
            "Requirement already satisfied: h5py>=2.7.1 in /usr/local/lib/python3.6/dist-packages (from anago) (2.8.0)\n",
            "Requirement already satisfied: numpy>=1.14.3 in /usr/local/lib/python3.6/dist-packages (from anago) (1.14.6)\n",
            "Requirement already satisfied: tensorflow>=1.8.0 in /usr/local/lib/python3.6/dist-packages (from anago) (1.13.1)\n",
            "Collecting seqeval>=0.0.3 (from anago)\n",
            "  Downloading https://files.pythonhosted.org/packages/51/79/d2cd36181d1a8843b312766a94b5c83ce451194b1e4cd99fb5dd50fa6760/seqeval-0.0.6-py3-none-any.whl\n",
            "Requirement already satisfied: scikit-learn>=0.19.1 in /usr/local/lib/python3.6/dist-packages (from anago) (0.20.3)\n",
            "Requirement already satisfied: requests>=2.18.4 in /usr/local/lib/python3.6/dist-packages (from anago) (2.18.4)\n",
            "Requirement already satisfied: pyyaml in /usr/local/lib/python3.6/dist-packages (from Keras>=2.2.0->anago) (3.13)\n",
            "Requirement already satisfied: scipy>=0.14 in /usr/local/lib/python3.6/dist-packages (from Keras>=2.2.0->anago) (1.1.0)\n",
            "Requirement already satisfied: six>=1.9.0 in /usr/local/lib/python3.6/dist-packages (from Keras>=2.2.0->anago) (1.11.0)\n",
            "Requirement already satisfied: keras-preprocessing>=1.0.5 in /usr/local/lib/python3.6/dist-packages (from Keras>=2.2.0->anago) (1.0.9)\n",
            "Requirement already satisfied: keras-applications>=1.0.6 in /usr/local/lib/python3.6/dist-packages (from Keras>=2.2.0->anago) (1.0.7)\n",
            "Requirement already satisfied: absl-py>=0.1.6 in /usr/local/lib/python3.6/dist-packages (from tensorflow>=1.8.0->anago) (0.7.0)\n",
            "Requirement already satisfied: termcolor>=1.1.0 in /usr/local/lib/python3.6/dist-packages (from tensorflow>=1.8.0->anago) (1.1.0)\n",
            "Requirement already satisfied: astor>=0.6.0 in /usr/local/lib/python3.6/dist-packages (from tensorflow>=1.8.0->anago) (0.7.1)\n",
            "Requirement already satisfied: protobuf>=3.6.1 in /usr/local/lib/python3.6/dist-packages (from tensorflow>=1.8.0->anago) (3.6.1)\n",
            "Requirement already satisfied: tensorboard<1.14.0,>=1.13.0 in /usr/local/lib/python3.6/dist-packages (from tensorflow>=1.8.0->anago) (1.13.0)\n",
            "Requirement already satisfied: gast>=0.2.0 in /usr/local/lib/python3.6/dist-packages (from tensorflow>=1.8.0->anago) (0.2.2)\n",
            "Requirement already satisfied: wheel>=0.26 in /usr/local/lib/python3.6/dist-packages (from tensorflow>=1.8.0->anago) (0.33.1)\n",
            "Requirement already satisfied: grpcio>=1.8.6 in /usr/local/lib/python3.6/dist-packages (from tensorflow>=1.8.0->anago) (1.15.0)\n",
            "Requirement already satisfied: tensorflow-estimator<1.14.0rc0,>=1.13.0 in /usr/local/lib/python3.6/dist-packages (from tensorflow>=1.8.0->anago) (1.13.0)\n",
            "Requirement already satisfied: idna<2.7,>=2.5 in /usr/local/lib/python3.6/dist-packages (from requests>=2.18.4->anago) (2.6)\n",
            "Requirement already satisfied: chardet<3.1.0,>=3.0.2 in /usr/local/lib/python3.6/dist-packages (from requests>=2.18.4->anago) (3.0.4)\n",
            "Requirement already satisfied: certifi>=2017.4.17 in /usr/local/lib/python3.6/dist-packages (from requests>=2.18.4->anago) (2018.11.29)\n",
            "Requirement already satisfied: urllib3<1.23,>=1.21.1 in /usr/local/lib/python3.6/dist-packages (from requests>=2.18.4->anago) (1.22)\n",
            "Requirement already satisfied: setuptools in /usr/local/lib/python3.6/dist-packages (from protobuf>=3.6.1->tensorflow>=1.8.0->anago) (40.8.0)\n",
            "Requirement already satisfied: markdown>=2.6.8 in /usr/local/lib/python3.6/dist-packages (from tensorboard<1.14.0,>=1.13.0->tensorflow>=1.8.0->anago) (3.0.1)\n",
            "Requirement already satisfied: werkzeug>=0.11.15 in /usr/local/lib/python3.6/dist-packages (from tensorboard<1.14.0,>=1.13.0->tensorflow>=1.8.0->anago) (0.14.1)\n",
            "Requirement already satisfied: mock>=2.0.0 in /usr/local/lib/python3.6/dist-packages (from tensorflow-estimator<1.14.0rc0,>=1.13.0->tensorflow>=1.8.0->anago) (2.0.0)\n",
            "Requirement already satisfied: pbr>=0.11 in /usr/local/lib/python3.6/dist-packages (from mock>=2.0.0->tensorflow-estimator<1.14.0rc0,>=1.13.0->tensorflow>=1.8.0->anago) (5.1.3)\n",
            "Installing collected packages: seqeval, anago\n",
            "Successfully installed anago-1.0.8 seqeval-0.0.6\n"
          ],
          "name": "stdout"
        }
      ]
    },
    {
      "metadata": {
        "id": "-iUJ-Sk4HHka",
        "colab_type": "code",
        "colab": {
          "base_uri": "https://localhost:8080/",
          "height": 34
        },
        "outputId": "f6715722-2768-4dd5-fc02-1984d0ce0484"
      },
      "cell_type": "code",
      "source": [
        "import anago\n",
        "from anago.layers import CRF"
      ],
      "execution_count": 5,
      "outputs": [
        {
          "output_type": "stream",
          "text": [
            "Using TensorFlow backend.\n"
          ],
          "name": "stderr"
        }
      ]
    },
    {
      "metadata": {
        "id": "sxZnYGV6HKwM",
        "colab_type": "code",
        "colab": {
          "base_uri": "https://localhost:8080/",
          "height": 139
        },
        "outputId": "abbb6f29-3137-48d8-b8e3-4278b848ea2b"
      },
      "cell_type": "code",
      "source": [
        "model = anago.Sequence.load('weights.h5', 'params.json', 'preprocessor.pickle')"
      ],
      "execution_count": 6,
      "outputs": [
        {
          "output_type": "stream",
          "text": [
            "WARNING:tensorflow:From /usr/local/lib/python3.6/dist-packages/tensorflow/python/framework/op_def_library.py:263: colocate_with (from tensorflow.python.framework.ops) is deprecated and will be removed in a future version.\n",
            "Instructions for updating:\n",
            "Colocations handled automatically by placer.\n",
            "WARNING:tensorflow:From /usr/local/lib/python3.6/dist-packages/keras/backend/tensorflow_backend.py:3445: calling dropout (from tensorflow.python.ops.nn_ops) with keep_prob is deprecated and will be removed in a future version.\n",
            "Instructions for updating:\n",
            "Please use `rate` instead of `keep_prob`. Rate should be set to `rate = 1 - keep_prob`.\n"
          ],
          "name": "stdout"
        }
      ]
    },
    {
      "metadata": {
        "id": "LYLRucKEHNCR",
        "colab_type": "code",
        "colab": {
          "base_uri": "https://localhost:8080/",
          "height": 493
        },
        "outputId": "215943db-04b0-4527-8737-9239d97a8bae"
      },
      "cell_type": "code",
      "source": [
        "model.model.summary()"
      ],
      "execution_count": 7,
      "outputs": [
        {
          "output_type": "stream",
          "text": [
            "__________________________________________________________________________________________________\n",
            "Layer (type)                    Output Shape         Param #     Connected to                     \n",
            "==================================================================================================\n",
            "char_input (InputLayer)         (None, None, None)   0                                            \n",
            "__________________________________________________________________________________________________\n",
            "word_input (InputLayer)         (None, None)         0                                            \n",
            "__________________________________________________________________________________________________\n",
            "char_embedding (Embedding)      (None, None, None, 2 2750        char_input[0][0]                 \n",
            "__________________________________________________________________________________________________\n",
            "word_embedding (Embedding)      (None, None, 100)    14542700    word_input[0][0]                 \n",
            "__________________________________________________________________________________________________\n",
            "time_distributed_1 (TimeDistrib (None, None, 50)     10200       char_embedding[0][0]             \n",
            "__________________________________________________________________________________________________\n",
            "concatenate_1 (Concatenate)     (None, None, 150)    0           word_embedding[0][0]             \n",
            "                                                                 time_distributed_1[0][0]         \n",
            "__________________________________________________________________________________________________\n",
            "dropout_1 (Dropout)             (None, None, 150)    0           concatenate_1[0][0]              \n",
            "__________________________________________________________________________________________________\n",
            "bidirectional_2 (Bidirectional) (None, None, 200)    200800      dropout_1[0][0]                  \n",
            "__________________________________________________________________________________________________\n",
            "dense_1 (Dense)                 (None, None, 100)    20100       bidirectional_2[0][0]            \n",
            "__________________________________________________________________________________________________\n",
            "crf_1 (CRF)                     (None, None, 106)    22154       dense_1[0][0]                    \n",
            "==================================================================================================\n",
            "Total params: 14,798,704\n",
            "Trainable params: 14,798,704\n",
            "Non-trainable params: 0\n",
            "__________________________________________________________________________________________________\n"
          ],
          "name": "stdout"
        }
      ]
    },
    {
      "metadata": {
        "id": "tZbc7oYTIz46",
        "colab_type": "code",
        "colab": {
          "base_uri": "https://localhost:8080/",
          "height": 204
        },
        "outputId": "298e45c5-916d-4cc1-b92e-57de62dd53cd"
      },
      "cell_type": "code",
      "source": [
        "model.analyze(\"فرنسا بلد جان جاك روسو\")"
      ],
      "execution_count": 12,
      "outputs": [
        {
          "output_type": "execute_result",
          "data": {
            "text/plain": [
              "{'entities': [{'beginOffset': 0,\n",
              "   'endOffset': 1,\n",
              "   'score': 1.0,\n",
              "   'text': 'فرنسا',\n",
              "   'type': 'GPE_Nation'},\n",
              "  {'beginOffset': 2,\n",
              "   'endOffset': 5,\n",
              "   'score': 1.0,\n",
              "   'text': 'جان جاك روسو',\n",
              "   'type': 'PER_Athlete'}],\n",
              " 'words': ['فرنسا', 'بلد', 'جان', 'جاك', 'روسو']}"
            ]
          },
          "metadata": {
            "tags": []
          },
          "execution_count": 12
        }
      ]
    },
    {
      "metadata": {
        "id": "0oF7D_mrJIZF",
        "colab_type": "code",
        "colab": {
          "base_uri": "https://localhost:8080/",
          "height": 119
        },
        "outputId": "f715d056-37bd-4dca-db8b-73acc31f5a2a"
      },
      "cell_type": "code",
      "source": [
        "model.analyze(\"جوجل من اكبر الشركات فى العالم\")"
      ],
      "execution_count": 14,
      "outputs": [
        {
          "output_type": "execute_result",
          "data": {
            "text/plain": [
              "{'entities': [{'beginOffset': 0,\n",
              "   'endOffset': 1,\n",
              "   'score': 1.0,\n",
              "   'text': 'جوجل',\n",
              "   'type': 'ORG_Commercial'}],\n",
              " 'words': ['جوجل', 'من', 'اكبر', 'الشركات', 'فى', 'العالم']}"
            ]
          },
          "metadata": {
            "tags": []
          },
          "execution_count": 14
        }
      ]
    },
    {
      "metadata": {
        "id": "fU_YGCTrJqkX",
        "colab_type": "code",
        "colab": {
          "base_uri": "https://localhost:8080/",
          "height": 119
        },
        "outputId": "928d3e51-f36b-4890-8bd0-8011c5e7108f"
      },
      "cell_type": "code",
      "source": [
        "model.analyze(\"انسيبشن حاصل على جوائز عالمية كثيرة\")"
      ],
      "execution_count": 17,
      "outputs": [
        {
          "output_type": "execute_result",
          "data": {
            "text/plain": [
              "{'entities': [{'beginOffset': 0,\n",
              "   'endOffset': 1,\n",
              "   'score': 1.0,\n",
              "   'text': 'انسيبشن',\n",
              "   'type': 'PRO_Movie'}],\n",
              " 'words': ['انسيبشن', 'حاصل', 'على', 'جوائز', 'عالمية', 'كثيرة']}"
            ]
          },
          "metadata": {
            "tags": []
          },
          "execution_count": 17
        }
      ]
    },
    {
      "metadata": {
        "id": "6HRaEeh_J5Yv",
        "colab_type": "code",
        "colab": {
          "base_uri": "https://localhost:8080/",
          "height": 119
        },
        "outputId": "5af3a3ab-975d-4e59-dbf0-037c2fee16f6"
      },
      "cell_type": "code",
      "source": [
        "model.analyze(\"العربية دى مرسيدس\")"
      ],
      "execution_count": 18,
      "outputs": [
        {
          "output_type": "execute_result",
          "data": {
            "text/plain": [
              "{'entities': [{'beginOffset': 2,\n",
              "   'endOffset': 3,\n",
              "   'score': 1.0,\n",
              "   'text': 'مرسيدس',\n",
              "   'type': 'ORG_Commercial'}],\n",
              " 'words': ['العربية', 'دى', 'مرسيدس']}"
            ]
          },
          "metadata": {
            "tags": []
          },
          "execution_count": 18
        }
      ]
    },
    {
      "metadata": {
        "id": "2A2O2GdeKV-k",
        "colab_type": "code",
        "colab": {}
      },
      "cell_type": "code",
      "source": [
        ""
      ],
      "execution_count": 0,
      "outputs": []
    }
  ]
}